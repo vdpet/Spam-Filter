{
 "cells": [
  {
   "cell_type": "markdown",
   "id": "46a040bc",
   "metadata": {},
   "source": [
    "# <font color=#fe645d>Spam Filter</font> with Naive Bayes\n",
    "\n",
    "This notebook contains my own explanations and comments on an exercise from an Udemy Course on Machine Learning. I hope this can be useful for those who are just starting with this topic.\n",
    "\n",
    "#### About the dataset:\n",
    "The dataset I used is local to my computer, downloaded from the <mark>Spam Assasin</mark> website. You may want to use the JSON file provided in <mark>Kaggle:</mark> https://www.kaggle.com/code/gin/data.</mark> If you choose the last option, you can skip the first sections about reading and extracting the e-mails.\n"
   ]
  },
  {
   "cell_type": "markdown",
   "id": "96215e82",
   "metadata": {},
   "source": [
    "## Notebook Imports 📓"
   ]
  },
  {
   "cell_type": "code",
   "execution_count": 261,
   "id": "b990fa86",
   "metadata": {},
   "outputs": [],
   "source": [
    "from os import walk\n",
    "from os.path import join\n",
    "import pandas as pd\n",
    "import numpy as np\n",
    "\n",
    "import nltk\n",
    "from nltk.stem import PorterStemmer\n",
    "from nltk.corpus import stopwords\n",
    "from nltk.tokenize import word_tokenize\n",
    "\n",
    "from bs4 import BeautifulSoup\n",
    "\n",
    "from wordcloud import WordCloud\n",
    "from PIL import Image # helps us edit images\n",
    "\n",
    "import matplotlib.pyplot as plt\n",
    "\n",
    "from sklearn.model_selection import train_test_split\n",
    "\n",
    "%matplotlib inline"
   ]
  },
  {
   "cell_type": "markdown",
   "id": "1cca72e5",
   "metadata": {},
   "source": [
    "## Reading Files 📖"
   ]
  },
  {
   "cell_type": "code",
   "execution_count": 176,
   "id": "f7eff0d1",
   "metadata": {},
   "outputs": [
    {
     "data": {
      "text/plain": [
       "'utf-8'"
      ]
     },
     "execution_count": 176,
     "metadata": {},
     "output_type": "execute_result"
    }
   ],
   "source": [
    "# we can check the encoding of the our system\n",
    "\n",
    "import sys\n",
    "sys.getfilesystemencoding()\n",
    "\n",
    "# It is 'utf-8', which is diferent than the encoding we are going to use for the files\n"
   ]
  },
  {
   "cell_type": "code",
   "execution_count": 284,
   "id": "1b8b1097",
   "metadata": {},
   "outputs": [],
   "source": [
    "# constant file paths:\n",
    "SPAM_1_PATH = 'SpamData/01_Processing/spam_assassin_corpus/spam_1'\n",
    "SPAM_2_PATH = 'SpamData/01_Processing/spam_assassin_corpus/spam_2'\n",
    "EASY_NONSPAM_1_PATH = 'SpamData/01_Processing/spam_assassin_corpus/easy_ham_1'\n",
    "EASY_NONSPAM_2_PATH = 'SpamData/01_Processing/spam_assassin_corpus/easy_ham_2'\n",
    "# constant categories HAM vs SPAM:\n",
    "SPAM_CAT = 1\n",
    "HAM_CAT = 0\n",
    "\n",
    "VOCAB_SIZE = 2500\n",
    "\n",
    "# the dataframe file we're going to create later in the notebook\n",
    "DATA_JSON_FILE = 'SpamData/01_Processing/email-text-data-mine.json'\n",
    "SKULL = 'SpamData/01_Processing/wordcloud_resources/skull-icon.png'\n",
    "THUMBS_UP = 'SpamData/01_Processing/wordcloud_resources/thumbs-up.png'\n",
    "THUMBS_DOWN = 'SpamData/01_Processing/wordcloud_resources/thumbs-down.png'\n",
    "\n",
    "\n",
    "# created files:\n",
    "WORD_ID_FILE = 'SpamData/01_Processing/word-by-id.csv'\n",
    "DATA_JSON_FILE = 'SpamData/01_Processing/email-text-data-mine.json'\n",
    "TRAINING_DATA_FILE = 'SpamData/02_Training/train-data.txt'\n",
    "TEST_DATA_FILE = 'SpamData/02_Training/test-data.txt'"
   ]
  },
  {
   "cell_type": "markdown",
   "id": "207f8f22",
   "metadata": {},
   "source": [
    "### Generator function example 👩‍💻"
   ]
  },
  {
   "cell_type": "markdown",
   "id": "8cdbf249",
   "metadata": {},
   "source": [
    "We can extract all the e-mail bodies from the file with a function, but we have to be careful as we're reading from a lot of files, so we can use a generator function instead."
   ]
  },
  {
   "cell_type": "code",
   "execution_count": 178,
   "id": "b45df3d6",
   "metadata": {},
   "outputs": [],
   "source": [
    "# Creating a generator object\n",
    "def generate_squares(N):\n",
    "    for my_number in range(N):\n",
    "        yield my_number ** 2"
   ]
  },
  {
   "cell_type": "code",
   "execution_count": 179,
   "id": "cd151845",
   "metadata": {},
   "outputs": [
    {
     "data": {
      "text/plain": [
       "<generator object generate_squares at 0x7fd8dfcc3f90>"
      ]
     },
     "execution_count": 179,
     "metadata": {},
     "output_type": "execute_result"
    }
   ],
   "source": [
    "# calling this function will not be very usefull on its own\n",
    "# see how it just returns the generator object\n",
    "generate_squares(6)"
   ]
  },
  {
   "cell_type": "code",
   "execution_count": 180,
   "id": "09b21b7c",
   "metadata": {},
   "outputs": [
    {
     "name": "stdout",
     "output_type": "stream",
     "text": [
      "0 ->1 ->4 ->9 ->16 ->"
     ]
    }
   ],
   "source": [
    "#However, we can use the generator function to help us do other interesting things\n",
    "\n",
    "for i in generate_squares(5):\n",
    "    print(i, end= ' ->')\n",
    "    \n",
    "# We can of course do this by just creating a simple square function\n",
    "# But the generator function remembers where we left the last result\n",
    "# The yield keyword let us exit the function but remember where we left it\n",
    "# When we have a large data set, it will take a lot of work and time for \n",
    "# it to be computed, even if we just use one single value\n",
    "\n"
   ]
  },
  {
   "cell_type": "markdown",
   "id": "fe84306c",
   "metadata": {},
   "source": [
    "## E-mail body extraction 📝"
   ]
  },
  {
   "cell_type": "code",
   "execution_count": 181,
   "id": "2517d7d6",
   "metadata": {},
   "outputs": [],
   "source": [
    "def email_body_generator(path):\n",
    "    for root, dirnames, filenames in walk(path):\n",
    "        for file_name in filenames:\n",
    "            \n",
    "            filepath = join(root, file_name)\n",
    "            \n",
    "            stream = open(filepath, encoding='latin-1')\n",
    "            is_body = False\n",
    "            lines = []\n",
    "            \n",
    "            for line in stream:\n",
    "                if is_body:\n",
    "                    lines.append(line)\n",
    "                elif line == '\\n':\n",
    "                    is_body = True\n",
    "                    \n",
    "            stream.close()\n",
    "            email_body = '\\n'.join(lines)\n",
    "            \n",
    "            yield file_name, email_body\n",
    "            "
   ]
  },
  {
   "cell_type": "markdown",
   "id": "cf14314e",
   "metadata": {},
   "source": [
    "## Setting the the spam files into a DataFrame ✔️"
   ]
  },
  {
   "cell_type": "code",
   "execution_count": 182,
   "id": "7370922b",
   "metadata": {},
   "outputs": [],
   "source": [
    "def df_from_directory(path, classification):\n",
    "    rows = []\n",
    "    row_names = []\n",
    "    \n",
    "    for file_name, email_body in email_body_generator(path):\n",
    "        rows.append({'MESSAGE': email_body, 'CATEGORY': classification})\n",
    "        row_names.append(file_name)\n",
    "        \n",
    "    return pd.DataFrame(rows, index = row_names)\n",
    "    \n",
    "    "
   ]
  },
  {
   "cell_type": "code",
   "execution_count": 183,
   "id": "ecb60060",
   "metadata": {},
   "outputs": [
    {
     "data": {
      "text/html": [
       "<div>\n",
       "<style scoped>\n",
       "    .dataframe tbody tr th:only-of-type {\n",
       "        vertical-align: middle;\n",
       "    }\n",
       "\n",
       "    .dataframe tbody tr th {\n",
       "        vertical-align: top;\n",
       "    }\n",
       "\n",
       "    .dataframe thead th {\n",
       "        text-align: right;\n",
       "    }\n",
       "</style>\n",
       "<table border=\"1\" class=\"dataframe\">\n",
       "  <thead>\n",
       "    <tr style=\"text-align: right;\">\n",
       "      <th></th>\n",
       "      <th>MESSAGE</th>\n",
       "      <th>CATEGORY</th>\n",
       "    </tr>\n",
       "  </thead>\n",
       "  <tbody>\n",
       "    <tr>\n",
       "      <th>00001.7848dde101aa985090474a91ec93fcf0</th>\n",
       "      <td>&lt;!DOCTYPE HTML PUBLIC \"-//W3C//DTD HTML 4.0 Tr...</td>\n",
       "      <td>1</td>\n",
       "    </tr>\n",
       "    <tr>\n",
       "      <th>00002.d94f1b97e48ed3b553b3508d116e6a09</th>\n",
       "      <td>1) Fight The Risk of Cancer!\\n\\nhttp://www.adc...</td>\n",
       "      <td>1</td>\n",
       "    </tr>\n",
       "    <tr>\n",
       "      <th>00003.2ee33bc6eacdb11f38d052c44819ba6c</th>\n",
       "      <td>1) Fight The Risk of Cancer!\\n\\nhttp://www.adc...</td>\n",
       "      <td>1</td>\n",
       "    </tr>\n",
       "    <tr>\n",
       "      <th>00004.eac8de8d759b7e74154f142194282724</th>\n",
       "      <td>##############################################...</td>\n",
       "      <td>1</td>\n",
       "    </tr>\n",
       "    <tr>\n",
       "      <th>00005.57696a39d7d84318ce497886896bf90d</th>\n",
       "      <td>I thought you might like these:\\n\\n1) Slim Dow...</td>\n",
       "      <td>1</td>\n",
       "    </tr>\n",
       "  </tbody>\n",
       "</table>\n",
       "</div>"
      ],
      "text/plain": [
       "                                                                                  MESSAGE  \\\n",
       "00001.7848dde101aa985090474a91ec93fcf0  <!DOCTYPE HTML PUBLIC \"-//W3C//DTD HTML 4.0 Tr...   \n",
       "00002.d94f1b97e48ed3b553b3508d116e6a09  1) Fight The Risk of Cancer!\\n\\nhttp://www.adc...   \n",
       "00003.2ee33bc6eacdb11f38d052c44819ba6c  1) Fight The Risk of Cancer!\\n\\nhttp://www.adc...   \n",
       "00004.eac8de8d759b7e74154f142194282724  ##############################################...   \n",
       "00005.57696a39d7d84318ce497886896bf90d  I thought you might like these:\\n\\n1) Slim Dow...   \n",
       "\n",
       "                                        CATEGORY  \n",
       "00001.7848dde101aa985090474a91ec93fcf0         1  \n",
       "00002.d94f1b97e48ed3b553b3508d116e6a09         1  \n",
       "00003.2ee33bc6eacdb11f38d052c44819ba6c         1  \n",
       "00004.eac8de8d759b7e74154f142194282724         1  \n",
       "00005.57696a39d7d84318ce497886896bf90d         1  "
      ]
     },
     "execution_count": 183,
     "metadata": {},
     "output_type": "execute_result"
    }
   ],
   "source": [
    "spam_emails = df_from_directory(SPAM_1_PATH, SPAM_CAT)\n",
    "spam_emails = spam_emails.append(df_from_directory(SPAM_2_PATH, SPAM_CAT))\n",
    "spam_emails.head()"
   ]
  },
  {
   "cell_type": "code",
   "execution_count": 184,
   "id": "3338196d",
   "metadata": {},
   "outputs": [
    {
     "data": {
      "text/plain": [
       "1    1898\n",
       "Name: CATEGORY, dtype: int64"
      ]
     },
     "execution_count": 184,
     "metadata": {},
     "output_type": "execute_result"
    }
   ],
   "source": [
    "#spam_emails.shape\n",
    "spam_emails.CATEGORY.value_counts()"
   ]
  },
  {
   "cell_type": "markdown",
   "id": "fe704df3",
   "metadata": {},
   "source": [
    "## Setting the non-spam files into a DataFrame ✔️"
   ]
  },
  {
   "cell_type": "code",
   "execution_count": 185,
   "id": "a305adba",
   "metadata": {},
   "outputs": [
    {
     "data": {
      "text/plain": [
       "(3901, 2)"
      ]
     },
     "execution_count": 185,
     "metadata": {},
     "output_type": "execute_result"
    }
   ],
   "source": [
    "ham_emails = df_from_directory(EASY_NONSPAM_1_PATH, HAM_CAT)\n",
    "ham_emails = ham_emails.append(df_from_directory(EASY_NONSPAM_2_PATH, HAM_CAT))\n",
    "ham_emails.shape"
   ]
  },
  {
   "cell_type": "markdown",
   "id": "b04f9860",
   "metadata": {},
   "source": [
    "## A DataFrame that holds ALL e-mails ✔️"
   ]
  },
  {
   "cell_type": "code",
   "execution_count": 186,
   "id": "ae0a8d60",
   "metadata": {},
   "outputs": [
    {
     "data": {
      "text/plain": [
       "0    3901\n",
       "1    1898\n",
       "Name: CATEGORY, dtype: int64"
      ]
     },
     "execution_count": 186,
     "metadata": {},
     "output_type": "execute_result"
    }
   ],
   "source": [
    "data = pd.concat((ham_emails, spam_emails))\n",
    "data.CATEGORY.value_counts()"
   ]
  },
  {
   "cell_type": "code",
   "execution_count": 187,
   "id": "6107d59b",
   "metadata": {},
   "outputs": [
    {
     "data": {
      "text/plain": [
       "(5799, 2)"
      ]
     },
     "execution_count": 187,
     "metadata": {},
     "output_type": "execute_result"
    }
   ],
   "source": [
    "data.shape"
   ]
  },
  {
   "cell_type": "code",
   "execution_count": 193,
   "id": "cbd6d88a",
   "metadata": {},
   "outputs": [
    {
     "data": {
      "text/html": [
       "<div>\n",
       "<style scoped>\n",
       "    .dataframe tbody tr th:only-of-type {\n",
       "        vertical-align: middle;\n",
       "    }\n",
       "\n",
       "    .dataframe tbody tr th {\n",
       "        vertical-align: top;\n",
       "    }\n",
       "\n",
       "    .dataframe thead th {\n",
       "        text-align: right;\n",
       "    }\n",
       "</style>\n",
       "<table border=\"1\" class=\"dataframe\">\n",
       "  <thead>\n",
       "    <tr style=\"text-align: right;\">\n",
       "      <th></th>\n",
       "      <th>MESSAGE</th>\n",
       "      <th>CATEGORY</th>\n",
       "    </tr>\n",
       "  </thead>\n",
       "  <tbody>\n",
       "    <tr>\n",
       "      <th>00001.7c53336b37003a9286aba55d2945844c</th>\n",
       "      <td>Date:        Wed, 21 Aug 2002 10:54:46 -05...</td>\n",
       "      <td>0</td>\n",
       "    </tr>\n",
       "    <tr>\n",
       "      <th>00002.9c4069e25e1ef370c078db7ee85ff9ac</th>\n",
       "      <td>Martin A posted:\\n\\nTassos Papadopoulos, the G...</td>\n",
       "      <td>0</td>\n",
       "    </tr>\n",
       "    <tr>\n",
       "      <th>00003.860e3c3cee1b42ead714c5c874fe25f7</th>\n",
       "      <td>Man Threatens Explosion In Moscow \\n\\n\\n\\nThur...</td>\n",
       "      <td>0</td>\n",
       "    </tr>\n",
       "    <tr>\n",
       "      <th>00004.864220c5b6930b209cc287c361c99af1</th>\n",
       "      <td>Klez: The Virus That Won't Die\\n\\n \\n\\nAlready...</td>\n",
       "      <td>0</td>\n",
       "    </tr>\n",
       "    <tr>\n",
       "      <th>00005.bf27cdeaf0b8c4647ecd61b1d09da613</th>\n",
       "      <td>&gt;  in adding cream to spaghetti carbonara, whi...</td>\n",
       "      <td>0</td>\n",
       "    </tr>\n",
       "  </tbody>\n",
       "</table>\n",
       "</div>"
      ],
      "text/plain": [
       "                                                                                  MESSAGE  \\\n",
       "00001.7c53336b37003a9286aba55d2945844c      Date:        Wed, 21 Aug 2002 10:54:46 -05...   \n",
       "00002.9c4069e25e1ef370c078db7ee85ff9ac  Martin A posted:\\n\\nTassos Papadopoulos, the G...   \n",
       "00003.860e3c3cee1b42ead714c5c874fe25f7  Man Threatens Explosion In Moscow \\n\\n\\n\\nThur...   \n",
       "00004.864220c5b6930b209cc287c361c99af1  Klez: The Virus That Won't Die\\n\\n \\n\\nAlready...   \n",
       "00005.bf27cdeaf0b8c4647ecd61b1d09da613  >  in adding cream to spaghetti carbonara, whi...   \n",
       "\n",
       "                                        CATEGORY  \n",
       "00001.7c53336b37003a9286aba55d2945844c         0  \n",
       "00002.9c4069e25e1ef370c078db7ee85ff9ac         0  \n",
       "00003.860e3c3cee1b42ead714c5c874fe25f7         0  \n",
       "00004.864220c5b6930b209cc287c361c99af1         0  \n",
       "00005.bf27cdeaf0b8c4647ecd61b1d09da613         0  "
      ]
     },
     "execution_count": 193,
     "metadata": {},
     "output_type": "execute_result"
    }
   ],
   "source": [
    "data.head()"
   ]
  },
  {
   "cell_type": "markdown",
   "id": "3a90dd8b",
   "metadata": {},
   "source": [
    "# Cleaning the data 🧹\n",
    "We need to check for empty e-mails, missing values, or null values"
   ]
  },
  {
   "cell_type": "code",
   "execution_count": 194,
   "id": "80ea4249",
   "metadata": {},
   "outputs": [
    {
     "name": "stdout",
     "output_type": "stream",
     "text": [
      "Are there None values in the data:  False\n"
     ]
    }
   ],
   "source": [
    "print(\"Are there None values in the data: \", data['MESSAGE'].isnull().values.any()) # here we can check if there are any null values\n",
    "# It returns False for this dataset\n",
    "# However, a null value is not the same as an empty e-mail\n",
    "# We need to find strings of length 0 in our messages\n",
    "\n"
   ]
  },
  {
   "cell_type": "code",
   "execution_count": 195,
   "id": "8172ed7e",
   "metadata": {},
   "outputs": [
    {
     "name": "stdout",
     "output_type": "stream",
     "text": [
      "Are there empty e-mails in the data:  True\n"
     ]
    }
   ],
   "source": [
    "print(\"Are there empty e-mails in the data: \", (data.MESSAGE.str.len() == 0).any())\n",
    "# It returns True for this dataset : we have empty videos.\n",
    "\n"
   ]
  },
  {
   "cell_type": "code",
   "execution_count": 196,
   "id": "ed72098a",
   "metadata": {},
   "outputs": [
    {
     "name": "stdout",
     "output_type": "stream",
     "text": [
      "Strings with length 0:  3\n"
     ]
    }
   ],
   "source": [
    "print(\"Strings with length 0: \", (data.MESSAGE.str.len() == 0).sum())"
   ]
  },
  {
   "cell_type": "markdown",
   "id": "577374bd",
   "metadata": {},
   "source": [
    "### Locate the empty e-mails ✔️"
   ]
  },
  {
   "cell_type": "code",
   "execution_count": 197,
   "id": "2c30caff",
   "metadata": {},
   "outputs": [
    {
     "data": {
      "text/plain": [
       "Index(['cmds', 'cmds', 'cmds'], dtype='object')"
      ]
     },
     "execution_count": 197,
     "metadata": {},
     "output_type": "execute_result"
    }
   ],
   "source": [
    "data[data.MESSAGE.str.len() == 0].index"
   ]
  },
  {
   "cell_type": "markdown",
   "id": "fe958121",
   "metadata": {},
   "source": [
    "These files do not seem to be an e-mail, as they don't have the same type of name as all the others... they are system files. We stil may need to discard them anyways."
   ]
  },
  {
   "cell_type": "code",
   "execution_count": 198,
   "id": "41b50cc6",
   "metadata": {},
   "outputs": [],
   "source": [
    "data.drop(['cmds'], inplace = True) #delete the empty e-mails"
   ]
  },
  {
   "cell_type": "code",
   "execution_count": 199,
   "id": "f03216a2",
   "metadata": {},
   "outputs": [
    {
     "data": {
      "text/plain": [
       "False"
      ]
     },
     "execution_count": 199,
     "metadata": {},
     "output_type": "execute_result"
    }
   ],
   "source": [
    "(data.MESSAGE.str.len() == 0).any() # Now we can check if this worked"
   ]
  },
  {
   "cell_type": "code",
   "execution_count": 200,
   "id": "1071ddee",
   "metadata": {},
   "outputs": [
    {
     "data": {
      "text/plain": [
       "(5796, 2)"
      ]
     },
     "execution_count": 200,
     "metadata": {},
     "output_type": "execute_result"
    }
   ],
   "source": [
    "data.shape"
   ]
  },
  {
   "cell_type": "markdown",
   "id": "70cba8de",
   "metadata": {},
   "source": [
    "### Add Document IDs to Track Emails in Dataset ✔️"
   ]
  },
  {
   "cell_type": "code",
   "execution_count": 201,
   "id": "6ee64c88",
   "metadata": {},
   "outputs": [],
   "source": [
    "document_ids = range(0, len(data.index))"
   ]
  },
  {
   "cell_type": "code",
   "execution_count": 202,
   "id": "75540d4b",
   "metadata": {},
   "outputs": [],
   "source": [
    "data['DOC_ID'] = document_ids"
   ]
  },
  {
   "cell_type": "code",
   "execution_count": 203,
   "id": "f05b806e",
   "metadata": {},
   "outputs": [
    {
     "data": {
      "text/plain": [
       "00001.7c53336b37003a9286aba55d2945844c       0\n",
       "00002.9c4069e25e1ef370c078db7ee85ff9ac       1\n",
       "00003.860e3c3cee1b42ead714c5c874fe25f7       2\n",
       "00004.864220c5b6930b209cc287c361c99af1       3\n",
       "00005.bf27cdeaf0b8c4647ecd61b1d09da613       4\n",
       "                                          ... \n",
       "01396.e80a10644810bc2ae3c1b58c5fd38dfa    5791\n",
       "01397.f75f0dd0dd923faefa3e9cc5ecb8c906    5792\n",
       "01398.8ca7045aae4184d56e8509dc5ad6d979    5793\n",
       "01399.2319643317e2c5193d574e40a71809c2    5794\n",
       "01400.b444b69845db2fa0a4693ca04e6ac5c5    5795\n",
       "Name: DOC_ID, Length: 5796, dtype: int64"
      ]
     },
     "execution_count": 203,
     "metadata": {},
     "output_type": "execute_result"
    }
   ],
   "source": [
    "data.DOC_ID"
   ]
  },
  {
   "cell_type": "code",
   "execution_count": 204,
   "id": "cbd81fa7",
   "metadata": {},
   "outputs": [
    {
     "data": {
      "text/html": [
       "<div>\n",
       "<style scoped>\n",
       "    .dataframe tbody tr th:only-of-type {\n",
       "        vertical-align: middle;\n",
       "    }\n",
       "\n",
       "    .dataframe tbody tr th {\n",
       "        vertical-align: top;\n",
       "    }\n",
       "\n",
       "    .dataframe thead th {\n",
       "        text-align: right;\n",
       "    }\n",
       "</style>\n",
       "<table border=\"1\" class=\"dataframe\">\n",
       "  <thead>\n",
       "    <tr style=\"text-align: right;\">\n",
       "      <th></th>\n",
       "      <th>MESSAGE</th>\n",
       "      <th>CATEGORY</th>\n",
       "      <th>FILE_NAME</th>\n",
       "    </tr>\n",
       "    <tr>\n",
       "      <th>DOC_ID</th>\n",
       "      <th></th>\n",
       "      <th></th>\n",
       "      <th></th>\n",
       "    </tr>\n",
       "  </thead>\n",
       "  <tbody>\n",
       "    <tr>\n",
       "      <th>0</th>\n",
       "      <td>Date:        Wed, 21 Aug 2002 10:54:46 -05...</td>\n",
       "      <td>0</td>\n",
       "      <td>00001.7c53336b37003a9286aba55d2945844c</td>\n",
       "    </tr>\n",
       "    <tr>\n",
       "      <th>1</th>\n",
       "      <td>Martin A posted:\\n\\nTassos Papadopoulos, the G...</td>\n",
       "      <td>0</td>\n",
       "      <td>00002.9c4069e25e1ef370c078db7ee85ff9ac</td>\n",
       "    </tr>\n",
       "    <tr>\n",
       "      <th>2</th>\n",
       "      <td>Man Threatens Explosion In Moscow \\n\\n\\n\\nThur...</td>\n",
       "      <td>0</td>\n",
       "      <td>00003.860e3c3cee1b42ead714c5c874fe25f7</td>\n",
       "    </tr>\n",
       "    <tr>\n",
       "      <th>3</th>\n",
       "      <td>Klez: The Virus That Won't Die\\n\\n \\n\\nAlready...</td>\n",
       "      <td>0</td>\n",
       "      <td>00004.864220c5b6930b209cc287c361c99af1</td>\n",
       "    </tr>\n",
       "    <tr>\n",
       "      <th>4</th>\n",
       "      <td>&gt;  in adding cream to spaghetti carbonara, whi...</td>\n",
       "      <td>0</td>\n",
       "      <td>00005.bf27cdeaf0b8c4647ecd61b1d09da613</td>\n",
       "    </tr>\n",
       "  </tbody>\n",
       "</table>\n",
       "</div>"
      ],
      "text/plain": [
       "                                                  MESSAGE  CATEGORY  \\\n",
       "DOC_ID                                                                \n",
       "0           Date:        Wed, 21 Aug 2002 10:54:46 -05...         0   \n",
       "1       Martin A posted:\\n\\nTassos Papadopoulos, the G...         0   \n",
       "2       Man Threatens Explosion In Moscow \\n\\n\\n\\nThur...         0   \n",
       "3       Klez: The Virus That Won't Die\\n\\n \\n\\nAlready...         0   \n",
       "4       >  in adding cream to spaghetti carbonara, whi...         0   \n",
       "\n",
       "                                     FILE_NAME  \n",
       "DOC_ID                                          \n",
       "0       00001.7c53336b37003a9286aba55d2945844c  \n",
       "1       00002.9c4069e25e1ef370c078db7ee85ff9ac  \n",
       "2       00003.860e3c3cee1b42ead714c5c874fe25f7  \n",
       "3       00004.864220c5b6930b209cc287c361c99af1  \n",
       "4       00005.bf27cdeaf0b8c4647ecd61b1d09da613  "
      ]
     },
     "execution_count": 204,
     "metadata": {},
     "output_type": "execute_result"
    }
   ],
   "source": [
    "data['FILE_NAME'] = data.index\n",
    "data.set_index('DOC_ID', inplace = True)\n",
    "data.head()"
   ]
  },
  {
   "cell_type": "code",
   "execution_count": 205,
   "id": "2f9b4f60",
   "metadata": {},
   "outputs": [
    {
     "data": {
      "text/html": [
       "<div>\n",
       "<style scoped>\n",
       "    .dataframe tbody tr th:only-of-type {\n",
       "        vertical-align: middle;\n",
       "    }\n",
       "\n",
       "    .dataframe tbody tr th {\n",
       "        vertical-align: top;\n",
       "    }\n",
       "\n",
       "    .dataframe thead th {\n",
       "        text-align: right;\n",
       "    }\n",
       "</style>\n",
       "<table border=\"1\" class=\"dataframe\">\n",
       "  <thead>\n",
       "    <tr style=\"text-align: right;\">\n",
       "      <th></th>\n",
       "      <th>MESSAGE</th>\n",
       "      <th>CATEGORY</th>\n",
       "      <th>FILE_NAME</th>\n",
       "    </tr>\n",
       "    <tr>\n",
       "      <th>DOC_ID</th>\n",
       "      <th></th>\n",
       "      <th></th>\n",
       "      <th></th>\n",
       "    </tr>\n",
       "  </thead>\n",
       "  <tbody>\n",
       "    <tr>\n",
       "      <th>5791</th>\n",
       "      <td>&lt;html&gt;\\n\\n&lt;head&gt;\\n\\n&lt;meta http-equiv=\"content-...</td>\n",
       "      <td>1</td>\n",
       "      <td>01396.e80a10644810bc2ae3c1b58c5fd38dfa</td>\n",
       "    </tr>\n",
       "    <tr>\n",
       "      <th>5792</th>\n",
       "      <td>This is a multi-part message in MIME format.\\n...</td>\n",
       "      <td>1</td>\n",
       "      <td>01397.f75f0dd0dd923faefa3e9cc5ecb8c906</td>\n",
       "    </tr>\n",
       "    <tr>\n",
       "      <th>5793</th>\n",
       "      <td>Dear Subscriber,\\n\\n\\n\\nIf I could show you a ...</td>\n",
       "      <td>1</td>\n",
       "      <td>01398.8ca7045aae4184d56e8509dc5ad6d979</td>\n",
       "    </tr>\n",
       "    <tr>\n",
       "      <th>5794</th>\n",
       "      <td>****Mid-Summer Customer Appreciation SALE!****...</td>\n",
       "      <td>1</td>\n",
       "      <td>01399.2319643317e2c5193d574e40a71809c2</td>\n",
       "    </tr>\n",
       "    <tr>\n",
       "      <th>5795</th>\n",
       "      <td>ATTN:SIR/MADAN      \\n\\n\\n\\n                  ...</td>\n",
       "      <td>1</td>\n",
       "      <td>01400.b444b69845db2fa0a4693ca04e6ac5c5</td>\n",
       "    </tr>\n",
       "  </tbody>\n",
       "</table>\n",
       "</div>"
      ],
      "text/plain": [
       "                                                  MESSAGE  CATEGORY  \\\n",
       "DOC_ID                                                                \n",
       "5791    <html>\\n\\n<head>\\n\\n<meta http-equiv=\"content-...         1   \n",
       "5792    This is a multi-part message in MIME format.\\n...         1   \n",
       "5793    Dear Subscriber,\\n\\n\\n\\nIf I could show you a ...         1   \n",
       "5794    ****Mid-Summer Customer Appreciation SALE!****...         1   \n",
       "5795    ATTN:SIR/MADAN      \\n\\n\\n\\n                  ...         1   \n",
       "\n",
       "                                     FILE_NAME  \n",
       "DOC_ID                                          \n",
       "5791    01396.e80a10644810bc2ae3c1b58c5fd38dfa  \n",
       "5792    01397.f75f0dd0dd923faefa3e9cc5ecb8c906  \n",
       "5793    01398.8ca7045aae4184d56e8509dc5ad6d979  \n",
       "5794    01399.2319643317e2c5193d574e40a71809c2  \n",
       "5795    01400.b444b69845db2fa0a4693ca04e6ac5c5  "
      ]
     },
     "execution_count": 205,
     "metadata": {},
     "output_type": "execute_result"
    }
   ],
   "source": [
    "data.tail()"
   ]
  },
  {
   "cell_type": "markdown",
   "id": "0363141b",
   "metadata": {},
   "source": [
    "## Saving DataFrame to File using Pandas 🐼"
   ]
  },
  {
   "cell_type": "markdown",
   "id": "fd618fa1",
   "metadata": {},
   "source": [
    "We may want to use this data frame again in another notebook. A way of doing this is with JSON files. "
   ]
  },
  {
   "cell_type": "code",
   "execution_count": 206,
   "id": "57e98518",
   "metadata": {},
   "outputs": [],
   "source": [
    "data.to_json(DATA_JSON_FILE)"
   ]
  },
  {
   "cell_type": "markdown",
   "id": "e7455b83",
   "metadata": {},
   "source": [
    "## Data <font color=#5d7ffe>Visualization</font> for these DataSets"
   ]
  },
  {
   "cell_type": "code",
   "execution_count": 207,
   "id": "b8d9571d",
   "metadata": {},
   "outputs": [
    {
     "data": {
      "text/plain": [
       "0    3900\n",
       "1    1896\n",
       "Name: CATEGORY, dtype: int64"
      ]
     },
     "execution_count": 207,
     "metadata": {},
     "output_type": "execute_result"
    }
   ],
   "source": [
    "data.CATEGORY.value_counts() # Will give us the counts for each category"
   ]
  },
  {
   "cell_type": "code",
   "execution_count": 208,
   "id": "0151294b",
   "metadata": {},
   "outputs": [],
   "source": [
    "amount_of_spam = data.CATEGORY.value_counts()[SPAM_CAT]\n",
    "amount_of_ham = data.CATEGORY.value_counts()[HAM_CAT]"
   ]
  },
  {
   "cell_type": "markdown",
   "id": "71bc34bb",
   "metadata": {},
   "source": [
    "### Pie chart 🥧"
   ]
  },
  {
   "cell_type": "code",
   "execution_count": 209,
   "id": "7d3be157",
   "metadata": {},
   "outputs": [
    {
     "data": {
      "image/png": "[encoded data removed]",
      "text/plain": [
       "<Figure size 454x454 with 1 Axes>"
      ]
     },
     "metadata": {},
     "output_type": "display_data"
    }
   ],
   "source": [
    "category_names = [ 'Real e-mails', 'Spam']\n",
    "custom_colors = ['#fe5d7e', '#01bd96']\n",
    "sizes = [amount_of_ham, amount_of_spam]\n",
    "plt.figure(figsize = (2,2), dpi = 227) #dpi = 227 helps us with screen resolution\n",
    "plt.pie(sizes, labels = category_names, textprops={'fontsize': 6},\n",
    "        autopct='%1.1f%%', colors = custom_colors, explode = [0, 0.1])\n",
    "# autopct='%1.1f%%' will show the percentages with one decimal point \n",
    "# explode = [0, 0.1] will separate the pieces of the chart\n",
    "plt.show()"
   ]
  },
  {
   "cell_type": "markdown",
   "id": "e8f047b0",
   "metadata": {},
   "source": [
    "# Text Preprosessing"
   ]
  },
  {
   "cell_type": "markdown",
   "id": "69d02173",
   "metadata": {},
   "source": [
    "* Download the NLTK Resources (Tokenizer and Stopwords)\n",
    "\n",
    "### Tokenize ✔️\n",
    "A _tokenizer_ is a function used in Natural Language Processing that splits up the words in a sentence into individual words.\n",
    "\n"
   ]
  },
  {
   "cell_type": "code",
   "execution_count": 210,
   "id": "29d56acd",
   "metadata": {},
   "outputs": [
    {
     "name": "stderr",
     "output_type": "stream",
     "text": [
      "[nltk_data] Downloading package punkt to /home/vanepet/nltk_data...\n",
      "[nltk_data]   Package punkt is already up-to-date!\n"
     ]
    },
    {
     "data": {
      "text/plain": [
       "True"
      ]
     },
     "execution_count": 210,
     "metadata": {},
     "output_type": "execute_result"
    }
   ],
   "source": [
    "nltk.download('punkt') #a tokenizer"
   ]
  },
  {
   "cell_type": "code",
   "execution_count": 211,
   "id": "b676e84c",
   "metadata": {},
   "outputs": [
    {
     "name": "stdout",
     "output_type": "stream",
     "text": [
      "['street', \"'s\", 'like', 'a', 'jungle', ',', 'so', 'call', 'the', 'police']\n"
     ]
    }
   ],
   "source": [
    "# testing the tokenizers\n",
    "msg = \"Street's like a jungle, so call the police\"\n",
    "words = word_tokenize(msg.lower())\n",
    "print(words)"
   ]
  },
  {
   "cell_type": "markdown",
   "id": "28ebd163",
   "metadata": {},
   "source": [
    "### Removing stopwords ✔️\n",
    "Words like \"and,\" \"be\" may not be very usefull for an analysis as they are present everywhere and do not convey meaningful information"
   ]
  },
  {
   "cell_type": "code",
   "execution_count": 83,
   "id": "74633935",
   "metadata": {},
   "outputs": [
    {
     "name": "stderr",
     "output_type": "stream",
     "text": [
      "[nltk_data] Downloading package stopwords to\n",
      "[nltk_data]     /home/vanepet/nltk_data...\n",
      "[nltk_data]   Package stopwords is already up-to-date!\n"
     ]
    },
    {
     "data": {
      "text/plain": [
       "True"
      ]
     },
     "execution_count": 83,
     "metadata": {},
     "output_type": "execute_result"
    }
   ],
   "source": [
    "nltk.download('stopwords')"
   ]
  },
  {
   "cell_type": "code",
   "execution_count": 212,
   "id": "cee76d0c",
   "metadata": {},
   "outputs": [
    {
     "name": "stdout",
     "output_type": "stream",
     "text": [
      "The filtered words are  ['street', \"'s\", 'like', 'jungle', ',', 'call', 'police']\n"
     ]
    }
   ],
   "source": [
    "stop_words = set(stopwords.words('english'))\n",
    "\n",
    "words = word_tokenize(msg.lower())\n",
    "\n",
    "filtered_words = []\n",
    "# Challenge: append non-stop words to filtered_words\n",
    "for word in words:\n",
    "    if word not in stop_words:\n",
    "        filtered_words.append(word)\n",
    "\n",
    "print(\"The filtered words are \", filtered_words)"
   ]
  },
  {
   "cell_type": "markdown",
   "id": "8cbcee01",
   "metadata": {},
   "source": [
    "<mark>NOTE:</mark> We still have punctuation, and the shrinked form of the stopword \"is\", \"s\", is still a part of the tokens here. These shouldn't be tokens in a more serious NLP task, as they do not carry relevant meaning. You can check that \"is\" is considered a stepword in English:"
   ]
  },
  {
   "cell_type": "code",
   "execution_count": 85,
   "id": "842bfcce",
   "metadata": {},
   "outputs": [
    {
     "name": "stdout",
     "output_type": "stream",
     "text": [
      "Found it!\n"
     ]
    }
   ],
   "source": [
    "if 'is' in stop_words: print('Found it!')"
   ]
  },
  {
   "cell_type": "markdown",
   "id": "ab04b513",
   "metadata": {},
   "source": [
    "### Stemming ✔️\n",
    "\n",
    "We need a way of considering tokens like \"fishing\", and \"fished\" the same word. For this, we're going to use an algorithm called the <mark>**Porter stemmer**</mark>, developed by Martin Porter, which is the de facto stemmer for the English language.\n",
    "\n",
    "There are other stemmers to choose. A popular one is the <mark>**Snowball stemmer**</mark>, which lets us choose the language."
   ]
  },
  {
   "cell_type": "code",
   "execution_count": 213,
   "id": "ff5faea8",
   "metadata": {},
   "outputs": [
    {
     "name": "stdout",
     "output_type": "stream",
     "text": [
      "['street', 'like', 'jungl', 'call', 'polic', 'nobodi', 'expect', 'spanish', 'inquisit']\n"
     ]
    }
   ],
   "source": [
    "stemmer = PorterStemmer()\n",
    "msg = \"Street's like a jungle, so call the police. Nobody expects the Spanish Inquisition!\"\n",
    "words = word_tokenize(msg.lower())\n",
    "filtered_words = []\n",
    "\n",
    "for word in words:\n",
    "    # isalpha() will check if a character is a letter\n",
    "    # it will help us remove punctuation marks\n",
    "    if word not in stop_words and word.isalpha(): \n",
    "        stemmed_word = stemmer.stem(word)\n",
    "        filtered_words.append(stemmed_word)\n",
    "        \n",
    "print(filtered_words)"
   ]
  },
  {
   "cell_type": "markdown",
   "id": "0bd6e87e",
   "metadata": {},
   "source": [
    "### Removing HTML tags from the e-mails ✔️\n",
    "E-mails usually contain some formatting in HTML, which we need to remove in order to process the texts correctly. We can do this by using an import called <mark>BeautifulSoup</mark>. \n",
    "\n",
    "You can see the HTML tags with the code below this cell:"
   ]
  },
  {
   "cell_type": "code",
   "execution_count": 87,
   "id": "92a2188d",
   "metadata": {},
   "outputs": [
    {
     "data": {
      "text/plain": [
       "\"Man Threatens Explosion In Moscow \\n\\n\\n\\nThursday August 22, 2002 1:40 PM\\n\\nMOSCOW (AP) - Security officers on Thursday seized an unidentified man who\\n\\nsaid he was armed with explosives and threatened to blow up his truck in\\n\\nfront of Russia's Federal Security Services headquarters in Moscow, NTV\\n\\ntelevision reported.\\n\\nThe officers seized an automatic rifle the man was carrying, then the man\\n\\ngot out of the truck and was taken into custody, NTV said. No other details\\n\\nwere immediately available.\\n\\nThe man had demanded talks with high government officials, the Interfax and\\n\\nITAR-Tass news agencies said. Ekho Moskvy radio reported that he wanted to\\n\\ntalk with Russian President Vladimir Putin.\\n\\nPolice and security forces rushed to the Security Service building, within\\n\\nblocks of the Kremlin, Red Square and the Bolshoi Ballet, and surrounded the\\n\\nman, who claimed to have one and a half tons of explosives, the news\\n\\nagencies said. Negotiations continued for about one and a half hours outside\\n\\nthe building, ITAR-Tass and Interfax reported, citing witnesses.\\n\\nThe man later drove away from the building, under police escort, and drove\\n\\nto a street near Moscow's Olympic Penta Hotel, where authorities held\\n\\nfurther negotiations with him, the Moscow police press service said. The\\n\\nmove appeared to be an attempt by security services to get him to a more\\n\\nsecure location. \\n\\n\\n\\n------------------------ Yahoo! Groups Sponsor ---------------------~-->\\n\\n4 DVDs Free +s&p Join Now\\n\\nhttp://us.click.yahoo.com/pt6YBB/NXiEAA/mG3HAA/7gSolB/TM\\n\\n---------------------------------------------------------------------~->\\n\\n\\n\\nTo unsubscribe from this group, send an email to:\\n\\nforteana-unsubscribe@egroups.com\\n\\n\\n\\n \\n\\n\\n\\nYour use of Yahoo! Groups is subject to http://docs.yahoo.com/info/terms/ \\n\\n\\n\\n\\n\\n\\n\""
      ]
     },
     "execution_count": 87,
     "metadata": {},
     "output_type": "execute_result"
    }
   ],
   "source": [
    "data.at[2, 'MESSAGE']"
   ]
  },
  {
   "cell_type": "markdown",
   "id": "c2e22d7c",
   "metadata": {},
   "source": [
    "In the following cell you'll see how BeautifulSoup changes that formatting:"
   ]
  },
  {
   "cell_type": "code",
   "execution_count": 214,
   "id": "185223bc",
   "metadata": {},
   "outputs": [
    {
     "name": "stdout",
     "output_type": "stream",
     "text": [
      "&gt;  in adding cream to spaghetti carbonara, which has the same effect on pasta as\n",
      "\n",
      "&gt;  making a pizza a deep-pie; \n",
      "\n",
      "\n",
      "\n",
      "I just had to jump in here as Carbonara is one of my favourites to make and ask \n",
      "\n",
      "what the hell are you supposed to use instead of cream?  I've never seen a \n",
      "\n",
      "recipe that hasn't used this.  Personally I use low fat creme fraiche because it \n",
      "\n",
      "works quite nicely but the only time I've seen an supposedly authentic recipe \n",
      "\n",
      "for carbonara  it was identical to mine (cream, eggs and lots of fresh parmesan) \n",
      "\n",
      "except for the creme fraiche.\n",
      "\n",
      "\n",
      "\n",
      "Stew\n",
      "\n",
      "-- \n",
      "\n",
      "Stewart Smith\n",
      "\n",
      "Scottish Microelectronics Centre, University of Edinburgh.\n",
      "\n",
      "http://www.ee.ed.ac.uk/~sxs/\n",
      "\n",
      "\n",
      "\n",
      "\n",
      "\n",
      "------------------------ Yahoo! Groups Sponsor ---------------------~--&gt;\n",
      "\n",
      "4 DVDs Free +s&amp;p Join Now\n",
      "\n",
      "http://us.click.yahoo.com/pt6YBB/NXiEAA/mG3HAA/7gSolB/TM\n",
      "\n",
      "---------------------------------------------------------------------~-&gt;\n",
      "\n",
      "\n",
      "\n",
      "To unsubscribe from this group, send an email to:\n",
      "\n",
      "forteana-unsubscribe@egroups.com\n",
      "\n",
      "\n",
      "\n",
      " \n",
      "\n",
      "\n",
      "\n",
      "Your use of Yahoo! Groups is subject to http://docs.yahoo.com/info/terms/\n",
      "\n"
     ]
    }
   ],
   "source": [
    "soup = BeautifulSoup(data.at[4, 'MESSAGE'], 'html.parser')  \n",
    "# notice that 'html.parser' is included in python. \n",
    "print(soup.prettify()) \n",
    "# prettify makes the text nicer to read."
   ]
  },
  {
   "cell_type": "markdown",
   "id": "3cc35a1d",
   "metadata": {},
   "source": [
    "## ❗Tokenizing and Stemming: Combined Function \n",
    "Here we're going to sum up all the previous steps in a function we can use repeatedly :D"
   ]
  },
  {
   "cell_type": "code",
   "execution_count": 215,
   "id": "96ef1555",
   "metadata": {},
   "outputs": [],
   "source": [
    "def clean_message(message, stemmer = PorterStemmer(), \n",
    "                 stop_words = set(stopwords.words('english'))):\n",
    "    \n",
    "    # remove HTML tags\n",
    "    soup = BeautifulSoup(message, 'html.parser')\n",
    "    cleaned_text = soup.get_text()\n",
    "    \n",
    "    words = word_tokenize(cleaned_text.lower()) #Tokenize\n",
    "    \n",
    "    filtered_words = []\n",
    "    \n",
    "    for word in words:\n",
    "        # Remove stepwords and punctuation\n",
    "        if word not in stop_words and word.isalpha(): \n",
    "            filtered_words.append(stemmer.stem(word))\n",
    "            \n",
    "    return filtered_words\n",
    "        "
   ]
  },
  {
   "cell_type": "code",
   "execution_count": 216,
   "id": "cfe513ee",
   "metadata": {},
   "outputs": [],
   "source": [
    "EXAMPLE_FILE = 'SpamData/01_Processing/practice_email.txt'\n",
    "\n",
    "stream = open(EXAMPLE_FILE, encoding='latin-1')\n",
    "\n",
    "is_body = False\n",
    "lines = []\n",
    "\n",
    "for line in stream:\n",
    "    if is_body:\n",
    "        lines.append(line)\n",
    "    elif line == '\\n':\n",
    "        is_body = True\n",
    "\n",
    "stream.close()\n",
    "\n",
    "email_body = '\\n'.join(lines)\n",
    "\n",
    "\n",
    "# Example in use:\n",
    "# clean_message(data.at[2, \"MESSAGE\"])"
   ]
  },
  {
   "cell_type": "markdown",
   "id": "cc811b08",
   "metadata": {},
   "source": [
    "## Slicing DataFrames, Creating Subsets and Counting Data"
   ]
  },
  {
   "cell_type": "code",
   "execution_count": 107,
   "id": "ebc4ee76",
   "metadata": {},
   "outputs": [
    {
     "name": "stderr",
     "output_type": "stream",
     "text": [
      "/home/vanepet/users/vanep/envs/in2110/lib/python3.9/site-packages/bs4/__init__.py:435: MarkupResemblesLocatorWarning: The input looks more like a filename than markup. You may want to open this file and pass the filehandle into Beautiful Soup.\n",
      "  warnings.warn(\n",
      "/home/vanepet/users/vanep/envs/in2110/lib/python3.9/site-packages/bs4/__init__.py:404: MarkupResemblesLocatorWarning: The input looks more like a URL than markup. You may want to use an HTTP client like requests to get the document behind the URL, and feed that document to Beautiful Soup.\n",
      "  warnings.warn(\n"
     ]
    }
   ],
   "source": [
    "# We apply the function with the help of a mapping function\n",
    "\n",
    "nested_list_of_sentences = data.MESSAGE.apply(clean_message)"
   ]
  },
  {
   "cell_type": "code",
   "execution_count": 217,
   "id": "437c64e1",
   "metadata": {},
   "outputs": [
    {
     "data": {
      "text/plain": [
       "DOC_ID\n",
       "0    [date, wed, aug, chri, garrigu, ca, reproduc, ...\n",
       "1    [martin, post, tasso, papadopoulo, greek, scul...\n",
       "2    [man, threaten, explos, moscow, thursday, augu...\n",
       "3    [klez, viru, wo, die, alreadi, prolif, viru, e...\n",
       "4    [ad, cream, spaghetti, carbonara, effect, past...\n",
       "Name: MESSAGE, dtype: object"
      ]
     },
     "execution_count": 217,
     "metadata": {},
     "output_type": "execute_result"
    }
   ],
   "source": [
    "nested_list_of_sentences.head()"
   ]
  },
  {
   "cell_type": "code",
   "execution_count": 218,
   "id": "a509a56f",
   "metadata": {},
   "outputs": [],
   "source": [
    "doc_ids_spam = data[data.CATEGORY == 1].index\n",
    "doc_ids_ham = data[data.CATEGORY == 0].index"
   ]
  },
  {
   "cell_type": "code",
   "execution_count": 269,
   "id": "218eaf64",
   "metadata": {},
   "outputs": [],
   "source": [
    "# We create two nested lists, one with ham, one with spam, with the help of the doc_ids\n",
    "\n",
    "nested_list_spam = nested_list_of_sentences.loc[doc_ids_spam]\n",
    "nested_list_ham = nested_list_of_sentences.loc[doc_ids_ham]"
   ]
  },
  {
   "cell_type": "code",
   "execution_count": 227,
   "id": "abe6ae04",
   "metadata": {},
   "outputs": [],
   "source": [
    "flat_list_ham = [item for sublist in nested_list_ham for item in sublist]\n"
   ]
  },
  {
   "cell_type": "code",
   "execution_count": 228,
   "id": "c266bfba",
   "metadata": {},
   "outputs": [
    {
     "name": "stdout",
     "output_type": "stream",
     "text": [
      "Number of unique words in normal e-mails:  20815\n",
      "10 most common words in normal e-mails:\n",
      " http      7563\n",
      "use       3633\n",
      "list      2880\n",
      "one       2373\n",
      "get       2286\n",
      "mail      2255\n",
      "would     2003\n",
      "like      1931\n",
      "messag    1849\n",
      "work      1800\n",
      "dtype: int64\n"
     ]
    }
   ],
   "source": [
    "normal_words= pd.Series(flat_list_ham).value_counts() # will give us the unique words\n",
    "\n",
    "print(\"Number of unique words in normal e-mails: \", normal_words.shape[0]) #unique words\n",
    "print( \"10 most common words in normal e-mails:\\n\", normal_words[:10]) # 10 most common words\n",
    "\n"
   ]
  },
  {
   "cell_type": "code",
   "execution_count": 224,
   "id": "9924bcc4",
   "metadata": {},
   "outputs": [
    {
     "name": "stdout",
     "output_type": "stream",
     "text": [
      "Number of unique words in spam e-mails:  13242\n",
      "10 most common words in spam e-mails:\n",
      " http      3097\n",
      "email     3090\n",
      "free      2585\n",
      "click     2058\n",
      "receiv    1989\n",
      "list      1971\n",
      "get       1914\n",
      "pleas     1852\n",
      "busi      1792\n",
      "order     1746\n",
      "dtype: int64\n"
     ]
    }
   ],
   "source": [
    "flat_list_spam = [ item for sublist in nested_list_spam for item in sublist]\n",
    "\n",
    "spam_words= pd.Series(flat_list_spam).value_counts() # will give us the unique words\n",
    "\n",
    "print(\"Number of unique words in spam e-mails: \", spam_words.shape[0]) #unique words\n",
    "print( \"10 most common words in spam e-mails:\\n\", spam_words[:10])"
   ]
  },
  {
   "cell_type": "markdown",
   "id": "4a3622c2",
   "metadata": {},
   "source": [
    "## Word Cloud  <font color=#5d7ffe>Visualization</font>☁️\n",
    "\n",
    "### Non-Spam E-mails Word Cloud"
   ]
  },
  {
   "cell_type": "code",
   "execution_count": 230,
   "id": "9c5ecbca",
   "metadata": {},
   "outputs": [],
   "source": [
    "#Preprosessing of Word Cloud data\n",
    "\n",
    "ham_as_string = ' '.join(flat_list_ham)"
   ]
  },
  {
   "cell_type": "code",
   "execution_count": 237,
   "id": "00176a4f",
   "metadata": {},
   "outputs": [
    {
     "data": {
      "image/png": "[encoded data removed]",
      "text/plain": [
       "<Figure size 1152x576 with 1 Axes>"
      ]
     },
     "metadata": {
      "needs_background": "light"
     },
     "output_type": "display_data"
    }
   ],
   "source": [
    "icon = Image.open(THUMBS_UP)\n",
    "image_mask = Image.new(mode='RGB', size=icon.size, color=(255, 255, 255))\n",
    "image_mask.paste(icon, box=icon)\n",
    "\n",
    "rgb_array = np.array(image_mask) # converts the image object to an array\n",
    "\n",
    "word_cloud = WordCloud(mask=rgb_array, background_color='white', \n",
    "                      max_words=600, colormap='viridis')\n",
    "\n",
    "word_cloud.generate(ham_as_string)\n",
    "\n",
    "plt.figure(figsize=[16, 8])\n",
    "plt.imshow(word_cloud, interpolation='bilinear')\n",
    "plt.axis('off')\n",
    "plt.show()"
   ]
  },
  {
   "cell_type": "markdown",
   "id": "60c69b46",
   "metadata": {},
   "source": [
    "### Spam e-mails Word Cloud ☁️"
   ]
  },
  {
   "cell_type": "code",
   "execution_count": 241,
   "id": "d4afdbd6",
   "metadata": {},
   "outputs": [
    {
     "data": {
      "image/png": "[encoded data removed]",
      "text/plain": [
       "<Figure size 1152x576 with 1 Axes>"
      ]
     },
     "metadata": {
      "needs_background": "light"
     },
     "output_type": "display_data"
    }
   ],
   "source": [
    "icon = Image.open(THUMBS_DOWN)\n",
    "image_mask = Image.new(mode='RGB', size=icon.size, color=(255, 255, 255))\n",
    "image_mask.paste(icon, box=icon)\n",
    "\n",
    "rgb_array = np.array(image_mask) # converts the image object to an array\n",
    "\n",
    "# Generate the text as a string for the word cloud\n",
    "spam_as_string = ' '.join(flat_list_spam)\n",
    "\n",
    "word_cloud_down = WordCloud(mask=rgb_array, background_color='white', max_font_size=300,\n",
    "                      max_words=600, colormap='gist_heat')\n",
    "\n",
    "word_cloud_down.generate(spam_as_string)\n",
    "\n",
    "plt.figure(figsize=[16, 8])\n",
    "plt.imshow(word_cloud_down, interpolation='bilinear')\n",
    "plt.axis('off')\n",
    "plt.show()"
   ]
  },
  {
   "cell_type": "markdown",
   "id": "5f552dbf",
   "metadata": {},
   "source": [
    "# Dictionary and Vocabulary 📚\n",
    "\n",
    "We need a dictionary and a vocabulary of the words in the whole corpus we're using\n",
    "\n",
    "### 1) Dictionary"
   ]
  },
  {
   "cell_type": "code",
   "execution_count": 245,
   "id": "6b60de02",
   "metadata": {},
   "outputs": [
    {
     "name": "stdout",
     "output_type": "stream",
     "text": [
      "Nr of unique words 27334\n"
     ]
    },
    {
     "data": {
      "text/plain": [
       "http     10660\n",
       "use       5019\n",
       "list      4851\n",
       "email     4367\n",
       "get       4200\n",
       "dtype: int64"
      ]
     },
     "execution_count": 245,
     "metadata": {},
     "output_type": "execute_result"
    }
   ],
   "source": [
    "stemmed_nested_list = data.MESSAGE.apply(clean_message)\n",
    "flat_stemmed_list = [item for sublist in stemmed_nested_list for item in sublist]\n",
    "unique_words = pd.Series(flat_stemmed_list).value_counts()\n",
    "print('Nr of unique words', unique_words.shape[0])\n",
    "unique_words.head()"
   ]
  },
  {
   "cell_type": "markdown",
   "id": "bcda67b2",
   "metadata": {},
   "source": [
    "### Most frequent words 🔢"
   ]
  },
  {
   "cell_type": "code",
   "execution_count": 248,
   "id": "f1af351d",
   "metadata": {},
   "outputs": [
    {
     "name": "stdout",
     "output_type": "stream",
     "text": [
      "Most frequent words: \n",
      " http     10660\n",
      "use       5019\n",
      "list      4851\n",
      "email     4367\n",
      "get       4200\n",
      "mail      3983\n",
      "one       3907\n",
      "free      3202\n",
      "time      3042\n",
      "work      2883\n",
      "dtype: int64\n"
     ]
    }
   ],
   "source": [
    "frequent_words = unique_words[0:VOCAB_SIZE]\n",
    "print('Most frequent words: \\n', frequent_words[:10])"
   ]
  },
  {
   "cell_type": "markdown",
   "id": "c53f9ab9",
   "metadata": {},
   "source": [
    "### 2) Vocabulary\n",
    "We're going to train the spam filter with this vocabulary we're going to set up in a new DataFrame"
   ]
  },
  {
   "cell_type": "code",
   "execution_count": 249,
   "id": "d7c22f98",
   "metadata": {},
   "outputs": [
    {
     "data": {
      "text/html": [
       "<div>\n",
       "<style scoped>\n",
       "    .dataframe tbody tr th:only-of-type {\n",
       "        vertical-align: middle;\n",
       "    }\n",
       "\n",
       "    .dataframe tbody tr th {\n",
       "        vertical-align: top;\n",
       "    }\n",
       "\n",
       "    .dataframe thead th {\n",
       "        text-align: right;\n",
       "    }\n",
       "</style>\n",
       "<table border=\"1\" class=\"dataframe\">\n",
       "  <thead>\n",
       "    <tr style=\"text-align: right;\">\n",
       "      <th></th>\n",
       "      <th>VOCAB_WORD</th>\n",
       "    </tr>\n",
       "    <tr>\n",
       "      <th>WORD_ID</th>\n",
       "      <th></th>\n",
       "    </tr>\n",
       "  </thead>\n",
       "  <tbody>\n",
       "    <tr>\n",
       "      <th>0</th>\n",
       "      <td>http</td>\n",
       "    </tr>\n",
       "    <tr>\n",
       "      <th>1</th>\n",
       "      <td>use</td>\n",
       "    </tr>\n",
       "    <tr>\n",
       "      <th>2</th>\n",
       "      <td>list</td>\n",
       "    </tr>\n",
       "    <tr>\n",
       "      <th>3</th>\n",
       "      <td>email</td>\n",
       "    </tr>\n",
       "    <tr>\n",
       "      <th>4</th>\n",
       "      <td>get</td>\n",
       "    </tr>\n",
       "  </tbody>\n",
       "</table>\n",
       "</div>"
      ],
      "text/plain": [
       "        VOCAB_WORD\n",
       "WORD_ID           \n",
       "0             http\n",
       "1              use\n",
       "2             list\n",
       "3            email\n",
       "4              get"
      ]
     },
     "execution_count": 249,
     "metadata": {},
     "output_type": "execute_result"
    }
   ],
   "source": [
    "word_ids = list(range(0, VOCAB_SIZE))\n",
    "vocab = pd.DataFrame({'VOCAB_WORD': frequent_words.index.values}, index=word_ids)\n",
    "vocab.index.name = 'WORD_ID' "
   ]
  },
  {
   "cell_type": "code",
   "execution_count": 273,
   "id": "c83f262d",
   "metadata": {},
   "outputs": [
    {
     "data": {
      "text/plain": [
       "(2500, 1)"
      ]
     },
     "execution_count": 273,
     "metadata": {},
     "output_type": "execute_result"
    }
   ],
   "source": [
    "vocab.shape"
   ]
  },
  {
   "cell_type": "markdown",
   "id": "1fbd1f44",
   "metadata": {},
   "source": [
    "### Save the vocabulary to a csv file"
   ]
  },
  {
   "cell_type": "code",
   "execution_count": 252,
   "id": "44ed65fe",
   "metadata": {},
   "outputs": [],
   "source": [
    "vocab.to_csv(WORD_ID_FILE, index_label=vocab.index.name, header=vocab.VOCAB_WORD.name)"
   ]
  },
  {
   "cell_type": "markdown",
   "id": "72d56c59",
   "metadata": {},
   "source": [
    "# A  <font color=#fe645d>Features</font> Sparse Matrix 🧮\n",
    "\n",
    " We're gonna use a method called from_records that converts a structured or record ndarray to a DataFrame. "
   ]
  },
  {
   "cell_type": "code",
   "execution_count": 272,
   "id": "224a996f",
   "metadata": {},
   "outputs": [
    {
     "data": {
      "text/html": [
       "<div>\n",
       "<style scoped>\n",
       "    .dataframe tbody tr th:only-of-type {\n",
       "        vertical-align: middle;\n",
       "    }\n",
       "\n",
       "    .dataframe tbody tr th {\n",
       "        vertical-align: top;\n",
       "    }\n",
       "\n",
       "    .dataframe thead th {\n",
       "        text-align: right;\n",
       "    }\n",
       "</style>\n",
       "<table border=\"1\" class=\"dataframe\">\n",
       "  <thead>\n",
       "    <tr style=\"text-align: right;\">\n",
       "      <th></th>\n",
       "      <th>0</th>\n",
       "      <th>1</th>\n",
       "      <th>2</th>\n",
       "      <th>3</th>\n",
       "      <th>4</th>\n",
       "      <th>5</th>\n",
       "      <th>6</th>\n",
       "      <th>7</th>\n",
       "      <th>8</th>\n",
       "      <th>9</th>\n",
       "      <th>...</th>\n",
       "      <th>7661</th>\n",
       "      <th>7662</th>\n",
       "      <th>7663</th>\n",
       "      <th>7664</th>\n",
       "      <th>7665</th>\n",
       "      <th>7666</th>\n",
       "      <th>7667</th>\n",
       "      <th>7668</th>\n",
       "      <th>7669</th>\n",
       "      <th>7670</th>\n",
       "    </tr>\n",
       "  </thead>\n",
       "  <tbody>\n",
       "    <tr>\n",
       "      <th>0</th>\n",
       "      <td>date</td>\n",
       "      <td>wed</td>\n",
       "      <td>aug</td>\n",
       "      <td>chri</td>\n",
       "      <td>garrigu</td>\n",
       "      <td>ca</td>\n",
       "      <td>reproduc</td>\n",
       "      <td>error</td>\n",
       "      <td>repeat</td>\n",
       "      <td>like</td>\n",
       "      <td>...</td>\n",
       "      <td>None</td>\n",
       "      <td>None</td>\n",
       "      <td>None</td>\n",
       "      <td>None</td>\n",
       "      <td>None</td>\n",
       "      <td>None</td>\n",
       "      <td>None</td>\n",
       "      <td>None</td>\n",
       "      <td>None</td>\n",
       "      <td>None</td>\n",
       "    </tr>\n",
       "    <tr>\n",
       "      <th>1</th>\n",
       "      <td>martin</td>\n",
       "      <td>post</td>\n",
       "      <td>tasso</td>\n",
       "      <td>papadopoulo</td>\n",
       "      <td>greek</td>\n",
       "      <td>sculptor</td>\n",
       "      <td>behind</td>\n",
       "      <td>plan</td>\n",
       "      <td>judg</td>\n",
       "      <td>limeston</td>\n",
       "      <td>...</td>\n",
       "      <td>None</td>\n",
       "      <td>None</td>\n",
       "      <td>None</td>\n",
       "      <td>None</td>\n",
       "      <td>None</td>\n",
       "      <td>None</td>\n",
       "      <td>None</td>\n",
       "      <td>None</td>\n",
       "      <td>None</td>\n",
       "      <td>None</td>\n",
       "    </tr>\n",
       "    <tr>\n",
       "      <th>2</th>\n",
       "      <td>man</td>\n",
       "      <td>threaten</td>\n",
       "      <td>explos</td>\n",
       "      <td>moscow</td>\n",
       "      <td>thursday</td>\n",
       "      <td>august</td>\n",
       "      <td>pm</td>\n",
       "      <td>moscow</td>\n",
       "      <td>ap</td>\n",
       "      <td>secur</td>\n",
       "      <td>...</td>\n",
       "      <td>None</td>\n",
       "      <td>None</td>\n",
       "      <td>None</td>\n",
       "      <td>None</td>\n",
       "      <td>None</td>\n",
       "      <td>None</td>\n",
       "      <td>None</td>\n",
       "      <td>None</td>\n",
       "      <td>None</td>\n",
       "      <td>None</td>\n",
       "    </tr>\n",
       "    <tr>\n",
       "      <th>3</th>\n",
       "      <td>klez</td>\n",
       "      <td>viru</td>\n",
       "      <td>wo</td>\n",
       "      <td>die</td>\n",
       "      <td>alreadi</td>\n",
       "      <td>prolif</td>\n",
       "      <td>viru</td>\n",
       "      <td>ever</td>\n",
       "      <td>klez</td>\n",
       "      <td>continu</td>\n",
       "      <td>...</td>\n",
       "      <td>None</td>\n",
       "      <td>None</td>\n",
       "      <td>None</td>\n",
       "      <td>None</td>\n",
       "      <td>None</td>\n",
       "      <td>None</td>\n",
       "      <td>None</td>\n",
       "      <td>None</td>\n",
       "      <td>None</td>\n",
       "      <td>None</td>\n",
       "    </tr>\n",
       "    <tr>\n",
       "      <th>4</th>\n",
       "      <td>ad</td>\n",
       "      <td>cream</td>\n",
       "      <td>spaghetti</td>\n",
       "      <td>carbonara</td>\n",
       "      <td>effect</td>\n",
       "      <td>pasta</td>\n",
       "      <td>make</td>\n",
       "      <td>pizza</td>\n",
       "      <td>jump</td>\n",
       "      <td>carbonara</td>\n",
       "      <td>...</td>\n",
       "      <td>None</td>\n",
       "      <td>None</td>\n",
       "      <td>None</td>\n",
       "      <td>None</td>\n",
       "      <td>None</td>\n",
       "      <td>None</td>\n",
       "      <td>None</td>\n",
       "      <td>None</td>\n",
       "      <td>None</td>\n",
       "      <td>None</td>\n",
       "    </tr>\n",
       "  </tbody>\n",
       "</table>\n",
       "<p>5 rows × 7671 columns</p>\n",
       "</div>"
      ],
      "text/plain": [
       "     0         1          2            3         4         5         6     \\\n",
       "0    date       wed        aug         chri   garrigu        ca  reproduc   \n",
       "1  martin      post      tasso  papadopoulo     greek  sculptor    behind   \n",
       "2     man  threaten     explos       moscow  thursday    august        pm   \n",
       "3    klez      viru         wo          die   alreadi    prolif      viru   \n",
       "4      ad     cream  spaghetti    carbonara    effect     pasta      make   \n",
       "\n",
       "     7       8          9     ...  7661  7662  7663  7664  7665  7666  7667  \\\n",
       "0   error  repeat       like  ...  None  None  None  None  None  None  None   \n",
       "1    plan    judg   limeston  ...  None  None  None  None  None  None  None   \n",
       "2  moscow      ap      secur  ...  None  None  None  None  None  None  None   \n",
       "3    ever    klez    continu  ...  None  None  None  None  None  None  None   \n",
       "4   pizza    jump  carbonara  ...  None  None  None  None  None  None  None   \n",
       "\n",
       "   7668  7669  7670  \n",
       "0  None  None  None  \n",
       "1  None  None  None  \n",
       "2  None  None  None  \n",
       "3  None  None  None  \n",
       "4  None  None  None  \n",
       "\n",
       "[5 rows x 7671 columns]"
      ]
     },
     "execution_count": 272,
     "metadata": {},
     "output_type": "execute_result"
    }
   ],
   "source": [
    "word_columns_df = pd.DataFrame.from_records(stemmed_nested_list.tolist())\n",
    "word_columns_df.head() # DataFrame"
   ]
  },
  {
   "cell_type": "markdown",
   "id": "8772425d",
   "metadata": {},
   "source": [
    "### We separate training from testing sets ✔️"
   ]
  },
  {
   "cell_type": "code",
   "execution_count": 263,
   "id": "0cdc5203",
   "metadata": {},
   "outputs": [
    {
     "name": "stdout",
     "output_type": "stream",
     "text": [
      "Nr of training samples 4057\n",
      "Fraction of training set 0.6999654934437544\n"
     ]
    }
   ],
   "source": [
    "X_train, X_test, y_train, y_test = train_test_split(word_columns_df, data.CATEGORY,\n",
    "                                                   test_size=0.3, random_state=42)  #scikit-learn\n",
    "\n",
    "print('Nr of training samples', X_train.shape[0])\n",
    "print('Fraction of training set', X_train.shape[0] / word_columns_df.shape[0])"
   ]
  },
  {
   "cell_type": "code",
   "execution_count": 264,
   "id": "da04fd86",
   "metadata": {},
   "outputs": [
    {
     "data": {
      "text/html": [
       "<div>\n",
       "<style scoped>\n",
       "    .dataframe tbody tr th:only-of-type {\n",
       "        vertical-align: middle;\n",
       "    }\n",
       "\n",
       "    .dataframe tbody tr th {\n",
       "        vertical-align: top;\n",
       "    }\n",
       "\n",
       "    .dataframe thead th {\n",
       "        text-align: right;\n",
       "    }\n",
       "</style>\n",
       "<table border=\"1\" class=\"dataframe\">\n",
       "  <thead>\n",
       "    <tr style=\"text-align: right;\">\n",
       "      <th></th>\n",
       "      <th>0</th>\n",
       "      <th>1</th>\n",
       "      <th>2</th>\n",
       "      <th>3</th>\n",
       "      <th>4</th>\n",
       "      <th>5</th>\n",
       "      <th>6</th>\n",
       "      <th>7</th>\n",
       "      <th>8</th>\n",
       "      <th>9</th>\n",
       "      <th>...</th>\n",
       "      <th>7661</th>\n",
       "      <th>7662</th>\n",
       "      <th>7663</th>\n",
       "      <th>7664</th>\n",
       "      <th>7665</th>\n",
       "      <th>7666</th>\n",
       "      <th>7667</th>\n",
       "      <th>7668</th>\n",
       "      <th>7669</th>\n",
       "      <th>7670</th>\n",
       "    </tr>\n",
       "    <tr>\n",
       "      <th>DOC_ID</th>\n",
       "      <th></th>\n",
       "      <th></th>\n",
       "      <th></th>\n",
       "      <th></th>\n",
       "      <th></th>\n",
       "      <th></th>\n",
       "      <th></th>\n",
       "      <th></th>\n",
       "      <th></th>\n",
       "      <th></th>\n",
       "      <th></th>\n",
       "      <th></th>\n",
       "      <th></th>\n",
       "      <th></th>\n",
       "      <th></th>\n",
       "      <th></th>\n",
       "      <th></th>\n",
       "      <th></th>\n",
       "      <th></th>\n",
       "      <th></th>\n",
       "      <th></th>\n",
       "    </tr>\n",
       "  </thead>\n",
       "  <tbody>\n",
       "    <tr>\n",
       "      <th>4844</th>\n",
       "      <td>viapro</td>\n",
       "      <td>exit</td>\n",
       "      <td>list</td>\n",
       "      <td>ajrul</td>\n",
       "      <td>None</td>\n",
       "      <td>None</td>\n",
       "      <td>None</td>\n",
       "      <td>None</td>\n",
       "      <td>None</td>\n",
       "      <td>None</td>\n",
       "      <td>...</td>\n",
       "      <td>None</td>\n",
       "      <td>None</td>\n",
       "      <td>None</td>\n",
       "      <td>None</td>\n",
       "      <td>None</td>\n",
       "      <td>None</td>\n",
       "      <td>None</td>\n",
       "      <td>None</td>\n",
       "      <td>None</td>\n",
       "      <td>None</td>\n",
       "    </tr>\n",
       "    <tr>\n",
       "      <th>4727</th>\n",
       "      <td>shop</td>\n",
       "      <td>hundr</td>\n",
       "      <td>lender</td>\n",
       "      <td>one</td>\n",
       "      <td>click</td>\n",
       "      <td>step</td>\n",
       "      <td>answer</td>\n",
       "      <td>question</td>\n",
       "      <td>step</td>\n",
       "      <td>lender</td>\n",
       "      <td>...</td>\n",
       "      <td>None</td>\n",
       "      <td>None</td>\n",
       "      <td>None</td>\n",
       "      <td>None</td>\n",
       "      <td>None</td>\n",
       "      <td>None</td>\n",
       "      <td>None</td>\n",
       "      <td>None</td>\n",
       "      <td>None</td>\n",
       "      <td>None</td>\n",
       "    </tr>\n",
       "    <tr>\n",
       "      <th>5022</th>\n",
       "      <td>bizmagoff</td>\n",
       "      <td>knowledg</td>\n",
       "      <td>power</td>\n",
       "      <td>get</td>\n",
       "      <td>save</td>\n",
       "      <td>top</td>\n",
       "      <td>inform</td>\n",
       "      <td>busi</td>\n",
       "      <td>magazin</td>\n",
       "      <td>magazin</td>\n",
       "      <td>...</td>\n",
       "      <td>None</td>\n",
       "      <td>None</td>\n",
       "      <td>None</td>\n",
       "      <td>None</td>\n",
       "      <td>None</td>\n",
       "      <td>None</td>\n",
       "      <td>None</td>\n",
       "      <td>None</td>\n",
       "      <td>None</td>\n",
       "      <td>None</td>\n",
       "    </tr>\n",
       "    <tr>\n",
       "      <th>3504</th>\n",
       "      <td>eugen</td>\n",
       "      <td>leitl</td>\n",
       "      <td>origin</td>\n",
       "      <td>comment</td>\n",
       "      <td>context</td>\n",
       "      <td>digit</td>\n",
       "      <td>signatur</td>\n",
       "      <td>digit</td>\n",
       "      <td>signatur</td>\n",
       "      <td>worth</td>\n",
       "      <td>...</td>\n",
       "      <td>None</td>\n",
       "      <td>None</td>\n",
       "      <td>None</td>\n",
       "      <td>None</td>\n",
       "      <td>None</td>\n",
       "      <td>None</td>\n",
       "      <td>None</td>\n",
       "      <td>None</td>\n",
       "      <td>None</td>\n",
       "      <td>None</td>\n",
       "    </tr>\n",
       "    <tr>\n",
       "      <th>3921</th>\n",
       "      <td>urgent</td>\n",
       "      <td>privat</td>\n",
       "      <td>extrem</td>\n",
       "      <td>confidenti</td>\n",
       "      <td>dear</td>\n",
       "      <td>profound</td>\n",
       "      <td>interest</td>\n",
       "      <td>utmost</td>\n",
       "      <td>solicit</td>\n",
       "      <td>immedi</td>\n",
       "      <td>...</td>\n",
       "      <td>None</td>\n",
       "      <td>None</td>\n",
       "      <td>None</td>\n",
       "      <td>None</td>\n",
       "      <td>None</td>\n",
       "      <td>None</td>\n",
       "      <td>None</td>\n",
       "      <td>None</td>\n",
       "      <td>None</td>\n",
       "      <td>None</td>\n",
       "    </tr>\n",
       "  </tbody>\n",
       "</table>\n",
       "<p>5 rows × 7671 columns</p>\n",
       "</div>"
      ],
      "text/plain": [
       "             0         1       2           3        4         5         6     \\\n",
       "DOC_ID                                                                         \n",
       "4844       viapro      exit    list       ajrul     None      None      None   \n",
       "4727         shop     hundr  lender         one    click      step    answer   \n",
       "5022    bizmagoff  knowledg   power         get     save       top    inform   \n",
       "3504        eugen     leitl  origin     comment  context     digit  signatur   \n",
       "3921       urgent    privat  extrem  confidenti     dear  profound  interest   \n",
       "\n",
       "            7         8        9     ...  7661  7662  7663  7664  7665  7666  \\\n",
       "DOC_ID                               ...                                       \n",
       "4844        None      None     None  ...  None  None  None  None  None  None   \n",
       "4727    question      step   lender  ...  None  None  None  None  None  None   \n",
       "5022        busi   magazin  magazin  ...  None  None  None  None  None  None   \n",
       "3504       digit  signatur    worth  ...  None  None  None  None  None  None   \n",
       "3921      utmost   solicit   immedi  ...  None  None  None  None  None  None   \n",
       "\n",
       "        7667  7668  7669  7670  \n",
       "DOC_ID                          \n",
       "4844    None  None  None  None  \n",
       "4727    None  None  None  None  \n",
       "5022    None  None  None  None  \n",
       "3504    None  None  None  None  \n",
       "3921    None  None  None  None  \n",
       "\n",
       "[5 rows x 7671 columns]"
      ]
     },
     "execution_count": 264,
     "metadata": {},
     "output_type": "execute_result"
    }
   ],
   "source": [
    "X_train.index.name = X_test.index.name = 'DOC_ID'\n",
    "X_train.head()"
   ]
  },
  {
   "cell_type": "markdown",
   "id": "fd1a1e51",
   "metadata": {},
   "source": [
    "## ❗Sparse Matrix Function"
   ]
  },
  {
   "cell_type": "code",
   "execution_count": 271,
   "id": "e244b26a",
   "metadata": {},
   "outputs": [
    {
     "data": {
      "text/plain": [
       "str"
      ]
     },
     "execution_count": 271,
     "metadata": {},
     "output_type": "execute_result"
    }
   ],
   "source": [
    "word_index = pd.Index(vocab.VOCAB_WORD)\n",
    "type(word_index[3])"
   ]
  },
  {
   "cell_type": "code",
   "execution_count": 266,
   "id": "570de34f",
   "metadata": {},
   "outputs": [
    {
     "data": {
      "text/plain": [
       "394"
      ]
     },
     "execution_count": 266,
     "metadata": {},
     "output_type": "execute_result"
    }
   ],
   "source": [
    "word_index.get_loc('thu')"
   ]
  },
  {
   "cell_type": "code",
   "execution_count": 274,
   "id": "c2407911",
   "metadata": {},
   "outputs": [],
   "source": [
    "def make_sparse_matrix(df, indexed_words, labels):\n",
    "    \"\"\"\n",
    "    Returns sparse matrix as dataframe.\n",
    "    \n",
    "    df: A dataframe with words in the columns with a document id as an index (X_train or X_test)\n",
    "    indexed_words: index of words ordered by word id\n",
    "    labels: category as a series (y_train or y_test)\n",
    "    \"\"\"\n",
    "    \n",
    "    nr_rows = df.shape[0]\n",
    "    nr_cols = df.shape[1]\n",
    "    word_set = set(indexed_words)\n",
    "    dict_list = []\n",
    "    \n",
    "    for i in range(nr_rows):\n",
    "        for j in range(nr_cols):\n",
    "            \n",
    "            word = df.iat[i, j]\n",
    "            if word in word_set:\n",
    "                doc_id = df.index[i]\n",
    "                word_id = indexed_words.get_loc(word)\n",
    "                category = labels.at[doc_id]\n",
    "                \n",
    "                item = {'LABEL': category, 'DOC_ID': doc_id,\n",
    "                       'OCCURENCE': 1, 'WORD_ID': word_id}\n",
    "                \n",
    "                dict_list.append(item)\n",
    "    \n",
    "    return pd.DataFrame(dict_list)"
   ]
  },
  {
   "cell_type": "markdown",
   "id": "c720a6ae",
   "metadata": {},
   "source": [
    "### Sparse Matrix for the Training Data"
   ]
  },
  {
   "cell_type": "code",
   "execution_count": 275,
   "id": "2a0f4f96",
   "metadata": {},
   "outputs": [],
   "source": [
    "sparse_train_df = make_sparse_matrix(X_train, word_index, y_train)"
   ]
  },
  {
   "cell_type": "code",
   "execution_count": 276,
   "id": "cd1a4b39",
   "metadata": {
    "scrolled": true
   },
   "outputs": [
    {
     "data": {
      "text/html": [
       "<div>\n",
       "<style scoped>\n",
       "    .dataframe tbody tr th:only-of-type {\n",
       "        vertical-align: middle;\n",
       "    }\n",
       "\n",
       "    .dataframe tbody tr th {\n",
       "        vertical-align: top;\n",
       "    }\n",
       "\n",
       "    .dataframe thead th {\n",
       "        text-align: right;\n",
       "    }\n",
       "</style>\n",
       "<table border=\"1\" class=\"dataframe\">\n",
       "  <thead>\n",
       "    <tr style=\"text-align: right;\">\n",
       "      <th></th>\n",
       "      <th></th>\n",
       "      <th></th>\n",
       "      <th>OCCURENCE</th>\n",
       "    </tr>\n",
       "    <tr>\n",
       "      <th>DOC_ID</th>\n",
       "      <th>WORD_ID</th>\n",
       "      <th>LABEL</th>\n",
       "      <th></th>\n",
       "    </tr>\n",
       "  </thead>\n",
       "  <tbody>\n",
       "    <tr>\n",
       "      <th rowspan=\"5\" valign=\"top\">0</th>\n",
       "      <th>0</th>\n",
       "      <th>0</th>\n",
       "      <td>1</td>\n",
       "    </tr>\n",
       "    <tr>\n",
       "      <th>1</th>\n",
       "      <th>0</th>\n",
       "      <td>2</td>\n",
       "    </tr>\n",
       "    <tr>\n",
       "      <th>2</th>\n",
       "      <th>0</th>\n",
       "      <td>1</td>\n",
       "    </tr>\n",
       "    <tr>\n",
       "      <th>4</th>\n",
       "      <th>0</th>\n",
       "      <td>1</td>\n",
       "    </tr>\n",
       "    <tr>\n",
       "      <th>5</th>\n",
       "      <th>0</th>\n",
       "      <td>1</td>\n",
       "    </tr>\n",
       "  </tbody>\n",
       "</table>\n",
       "</div>"
      ],
      "text/plain": [
       "                      OCCURENCE\n",
       "DOC_ID WORD_ID LABEL           \n",
       "0      0       0              1\n",
       "       1       0              2\n",
       "       2       0              1\n",
       "       4       0              1\n",
       "       5       0              1"
      ]
     },
     "execution_count": 276,
     "metadata": {},
     "output_type": "execute_result"
    }
   ],
   "source": [
    "train_grouped = sparse_train_df.groupby(['DOC_ID', 'WORD_ID', 'LABEL']).sum()\n",
    "train_grouped.head()"
   ]
  },
  {
   "cell_type": "markdown",
   "id": "83b27f5e",
   "metadata": {},
   "source": [
    "**Wait, we need a nicer matrix than that:**"
   ]
  },
  {
   "cell_type": "code",
   "execution_count": 279,
   "id": "06fd9f1b",
   "metadata": {},
   "outputs": [
    {
     "data": {
      "text/html": [
       "<div>\n",
       "<style scoped>\n",
       "    .dataframe tbody tr th:only-of-type {\n",
       "        vertical-align: middle;\n",
       "    }\n",
       "\n",
       "    .dataframe tbody tr th {\n",
       "        vertical-align: top;\n",
       "    }\n",
       "\n",
       "    .dataframe thead th {\n",
       "        text-align: right;\n",
       "    }\n",
       "</style>\n",
       "<table border=\"1\" class=\"dataframe\">\n",
       "  <thead>\n",
       "    <tr style=\"text-align: right;\">\n",
       "      <th></th>\n",
       "      <th>DOC_ID</th>\n",
       "      <th>WORD_ID</th>\n",
       "      <th>LABEL</th>\n",
       "      <th>OCCURENCE</th>\n",
       "    </tr>\n",
       "  </thead>\n",
       "  <tbody>\n",
       "    <tr>\n",
       "      <th>0</th>\n",
       "      <td>0</td>\n",
       "      <td>0</td>\n",
       "      <td>0</td>\n",
       "      <td>1</td>\n",
       "    </tr>\n",
       "    <tr>\n",
       "      <th>1</th>\n",
       "      <td>0</td>\n",
       "      <td>1</td>\n",
       "      <td>0</td>\n",
       "      <td>2</td>\n",
       "    </tr>\n",
       "    <tr>\n",
       "      <th>2</th>\n",
       "      <td>0</td>\n",
       "      <td>2</td>\n",
       "      <td>0</td>\n",
       "      <td>1</td>\n",
       "    </tr>\n",
       "    <tr>\n",
       "      <th>3</th>\n",
       "      <td>0</td>\n",
       "      <td>4</td>\n",
       "      <td>0</td>\n",
       "      <td>1</td>\n",
       "    </tr>\n",
       "    <tr>\n",
       "      <th>4</th>\n",
       "      <td>0</td>\n",
       "      <td>5</td>\n",
       "      <td>0</td>\n",
       "      <td>1</td>\n",
       "    </tr>\n",
       "  </tbody>\n",
       "</table>\n",
       "</div>"
      ],
      "text/plain": [
       "   DOC_ID  WORD_ID  LABEL  OCCURENCE\n",
       "0       0        0      0          1\n",
       "1       0        1      0          2\n",
       "2       0        2      0          1\n",
       "3       0        4      0          1\n",
       "4       0        5      0          1"
      ]
     },
     "execution_count": 279,
     "metadata": {},
     "output_type": "execute_result"
    }
   ],
   "source": [
    "train_grouped = train_grouped.reset_index()  # fixing the indexing\n",
    "train_grouped.head()"
   ]
  },
  {
   "cell_type": "markdown",
   "id": "091d3957",
   "metadata": {},
   "source": [
    "### Sparse Matrix for the Test Data"
   ]
  },
  {
   "cell_type": "code",
   "execution_count": 280,
   "id": "ca3bb1e9",
   "metadata": {},
   "outputs": [
    {
     "data": {
      "text/html": [
       "<div>\n",
       "<style scoped>\n",
       "    .dataframe tbody tr th:only-of-type {\n",
       "        vertical-align: middle;\n",
       "    }\n",
       "\n",
       "    .dataframe tbody tr th {\n",
       "        vertical-align: top;\n",
       "    }\n",
       "\n",
       "    .dataframe thead th {\n",
       "        text-align: right;\n",
       "    }\n",
       "</style>\n",
       "<table border=\"1\" class=\"dataframe\">\n",
       "  <thead>\n",
       "    <tr style=\"text-align: right;\">\n",
       "      <th></th>\n",
       "      <th></th>\n",
       "      <th></th>\n",
       "      <th>OCCURENCE</th>\n",
       "    </tr>\n",
       "    <tr>\n",
       "      <th>DOC_ID</th>\n",
       "      <th>WORD_ID</th>\n",
       "      <th>LABEL</th>\n",
       "      <th></th>\n",
       "    </tr>\n",
       "  </thead>\n",
       "  <tbody>\n",
       "    <tr>\n",
       "      <th rowspan=\"5\" valign=\"top\">8</th>\n",
       "      <th>0</th>\n",
       "      <th>0</th>\n",
       "      <td>2</td>\n",
       "    </tr>\n",
       "    <tr>\n",
       "      <th>1</th>\n",
       "      <th>0</th>\n",
       "      <td>3</td>\n",
       "    </tr>\n",
       "    <tr>\n",
       "      <th>3</th>\n",
       "      <th>0</th>\n",
       "      <td>1</td>\n",
       "    </tr>\n",
       "    <tr>\n",
       "      <th>4</th>\n",
       "      <th>0</th>\n",
       "      <td>1</td>\n",
       "    </tr>\n",
       "    <tr>\n",
       "      <th>6</th>\n",
       "      <th>0</th>\n",
       "      <td>2</td>\n",
       "    </tr>\n",
       "  </tbody>\n",
       "</table>\n",
       "</div>"
      ],
      "text/plain": [
       "                      OCCURENCE\n",
       "DOC_ID WORD_ID LABEL           \n",
       "8      0       0              2\n",
       "       1       0              3\n",
       "       3       0              1\n",
       "       4       0              1\n",
       "       6       0              2"
      ]
     },
     "execution_count": 280,
     "metadata": {},
     "output_type": "execute_result"
    }
   ],
   "source": [
    "sparse_test_df = make_sparse_matrix(X_test, word_index, y_test)\n",
    "\n",
    "test_grouped = sparse_test_df.groupby(['DOC_ID', 'WORD_ID', 'LABEL']).sum()\n",
    "test_grouped.head()"
   ]
  },
  {
   "cell_type": "code",
   "execution_count": 282,
   "id": "e6062d5d",
   "metadata": {},
   "outputs": [
    {
     "data": {
      "text/html": [
       "<div>\n",
       "<style scoped>\n",
       "    .dataframe tbody tr th:only-of-type {\n",
       "        vertical-align: middle;\n",
       "    }\n",
       "\n",
       "    .dataframe tbody tr th {\n",
       "        vertical-align: top;\n",
       "    }\n",
       "\n",
       "    .dataframe thead th {\n",
       "        text-align: right;\n",
       "    }\n",
       "</style>\n",
       "<table border=\"1\" class=\"dataframe\">\n",
       "  <thead>\n",
       "    <tr style=\"text-align: right;\">\n",
       "      <th></th>\n",
       "      <th>DOC_ID</th>\n",
       "      <th>WORD_ID</th>\n",
       "      <th>LABEL</th>\n",
       "      <th>OCCURENCE</th>\n",
       "    </tr>\n",
       "  </thead>\n",
       "  <tbody>\n",
       "    <tr>\n",
       "      <th>0</th>\n",
       "      <td>8</td>\n",
       "      <td>0</td>\n",
       "      <td>0</td>\n",
       "      <td>2</td>\n",
       "    </tr>\n",
       "    <tr>\n",
       "      <th>1</th>\n",
       "      <td>8</td>\n",
       "      <td>1</td>\n",
       "      <td>0</td>\n",
       "      <td>3</td>\n",
       "    </tr>\n",
       "    <tr>\n",
       "      <th>2</th>\n",
       "      <td>8</td>\n",
       "      <td>3</td>\n",
       "      <td>0</td>\n",
       "      <td>1</td>\n",
       "    </tr>\n",
       "    <tr>\n",
       "      <th>3</th>\n",
       "      <td>8</td>\n",
       "      <td>4</td>\n",
       "      <td>0</td>\n",
       "      <td>1</td>\n",
       "    </tr>\n",
       "    <tr>\n",
       "      <th>4</th>\n",
       "      <td>8</td>\n",
       "      <td>6</td>\n",
       "      <td>0</td>\n",
       "      <td>2</td>\n",
       "    </tr>\n",
       "  </tbody>\n",
       "</table>\n",
       "</div>"
      ],
      "text/plain": [
       "   DOC_ID  WORD_ID  LABEL  OCCURENCE\n",
       "0       8        0      0          2\n",
       "1       8        1      0          3\n",
       "2       8        3      0          1\n",
       "3       8        4      0          1\n",
       "4       8        6      0          2"
      ]
     },
     "execution_count": 282,
     "metadata": {},
     "output_type": "execute_result"
    }
   ],
   "source": [
    "test_grouped = test_grouped.reset_index()  # fixing the indexing\n",
    "test_grouped.head()"
   ]
  },
  {
   "cell_type": "markdown",
   "id": "796cfe77",
   "metadata": {},
   "source": [
    "### Save Train & Test Data"
   ]
  },
  {
   "cell_type": "code",
   "execution_count": 286,
   "id": "18bd721e",
   "metadata": {},
   "outputs": [
    {
     "data": {
      "text/plain": [
       "Index(['DOC_ID', 'WORD_ID', 'LABEL', 'OCCURENCE'], dtype='object')"
      ]
     },
     "execution_count": 286,
     "metadata": {},
     "output_type": "execute_result"
    }
   ],
   "source": [
    "np.savetxt(TRAINING_DATA_FILE, train_grouped, fmt='%d')\n",
    "np.savetxt(TEST_DATA_FILE, test_grouped, fmt='%d')\n",
    "train_grouped.columns"
   ]
  },
  {
   "cell_type": "code",
   "execution_count": null,
   "id": "311bc659",
   "metadata": {},
   "outputs": [],
   "source": []
  }
 ],
 "metadata": {
  "kernelspec": {
   "display_name": "Python 3 (ipykernel)",
   "language": "python",
   "name": "python3"
  },
  "language_info": {
   "codemirror_mode": {
    "name": "ipython",
    "version": 3
   },
   "file_extension": ".py",
   "mimetype": "text/x-python",
   "name": "python",
   "nbconvert_exporter": "python",
   "pygments_lexer": "ipython3",
   "version": "3.9.7"
  }
 },
 "nbformat": 4,
 "nbformat_minor": 5
}
